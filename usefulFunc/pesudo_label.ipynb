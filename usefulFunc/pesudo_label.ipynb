{
 "cells": [
  {
   "cell_type": "code",
   "execution_count": 1,
   "metadata": {},
   "outputs": [],
   "source": [
    "import numpy as np\n",
    "import pandas as pd\n",
    "import matplotlib.pyplot as plt\n",
    "%matplotlib inline"
   ]
  },
  {
   "cell_type": "code",
   "execution_count": 40,
   "metadata": {},
   "outputs": [],
   "source": [
    "pesudo_label = pd.read_csv('/root/projects/BirdClef2025/BirdCLEF2023-30th-place-solution-master/usefulFunc/pesudo_labelv16_0.4thred.csv')\n",
    "train = pd.read_csv('/root/projects/BirdClef2025/BirdCLEF2023-30th-place-solution-master/usefulFunc/train.csv')\n",
    "bird_cols = pesudo_label.columns[1:].to_list()\n",
    "train = pd.concat((train,pd.get_dummies(train['primary_label'])),axis=1)\n",
    "train[bird_cols] = train[bird_cols].astype(np.int32)"
   ]
  },
  {
   "cell_type": "code",
   "execution_count": null,
   "metadata": {},
   "outputs": [],
   "source": [
    "pesudo_label = pesudo_label[bird_cols]\n",
    "pesudo_birds = pesudo_label.columns[pesudo_label.sum()!=0]\n",
    "train = train[bird_cols]\n",
    "all_data = pd.concat((train,pesudo_label),axis=0)\n",
    "bird_cnt = all_data.sum()\n",
    "pesudo_exist_bird_cnt = bird_cnt[pesudo_birds]"
   ]
  },
  {
   "cell_type": "code",
   "execution_count": 46,
   "metadata": {},
   "outputs": [],
   "source": [
    "sorted_pesudo_exist_bird_cnt = sorted(pesudo_exist_bird_cnt.to_dict().items(),key=lambda x:x[1],reverse=True)"
   ]
  },
  {
   "cell_type": "code",
   "execution_count": 52,
   "metadata": {},
   "outputs": [],
   "source": [
    "pesudo_birds = list(pesudo_exist_bird_cnt.index)"
   ]
  },
  {
   "cell_type": "code",
   "execution_count": 47,
   "metadata": {},
   "outputs": [],
   "source": [
    "birds_pred = ['whmtyr1', 'socfly1', 'savhaw1', 'rutpuf1', 'yeofly1', 'purgal2',\n",
    "       'yelori1', 'ruther1', 'fotfly', 'plukit1', 'cinbec1', 'rumfly1',\n",
    "       'ampkin1', 'yebsee1', 'yecspi2', 'shghum1', 'greibi1', 'bafibi1',\n",
    "       'bobher1', 'spbwoo1', 'amekes', 'recwoo1', 'royfly1', 'littin1',\n",
    "       'tropar', 'yehcar1', 'pirfly1', 'norscr1', 'olipic1', 'stbwoo2',\n",
    "       'gycwor1', 'labter1', 'babwar', 'yehbla2', 'brtpar1', 'yebfly1',\n",
    "       'snoegr', 'smbani', 'plbwoo1', 'bubwre1', 'pavpig2', 'shtfly1',\n",
    "       'bugtan', 'rufmot1', 'grbhaw1', 'roahaw', 'whfant1', 'blctit1',\n",
    "       'rubsee1', 'palhor2', 'ywcpar', 'grysee1', 'plctan1', 'whwswa1',\n",
    "       'rebbla1', 'whttro1', 'whbman1', 'thbeup1', 'compau', 'anhing',\n",
    "       'gybmar', 'saffin', 'thlsch3', 'blcant4', 'compot1', 'ragmac1',\n",
    "       'sobtyr1', 'whtdov', 'blkvul', 'turvul', 'bobfly1', 'strowl1',\n",
    "       'greegr', 'baymac', 'cattyr', 'chbant1', 'cocher1', 'butsal1',\n",
    "       'yectyr1', 'cotfly1', 'rinkin1', 'grepot1', 'sahpar1', 'secfly1',\n",
    "       'watjac1', 'colara1', 'mastit1', 'linwoo1', 'crbtan1', 'creoro1',\n",
    "       'bbwduc', 'laufal1', 'piwtyr1', 'greani1', 'whbant1', 'crebob1',\n",
    "       'gohman1', 'spepar1', 'strcuc1', 'soulap1', 'cregua1', 'amakin1',\n",
    "       'bkmtou1', 'wbwwre1', 'bubcur1', 'strfly1', 'grekis', 'cargra1',\n",
    "       'eardov1', 'rugdov', 'bicwre1', 'speowl1', 'grnkin', 'tbsfin1',\n",
    "       'neocor', 'leagre', 'blhpar1', 'colcha1', 'piepuf1', 'yebela1',\n",
    "       'strher', 'woosto', 'bucmot3', 'rutjac1', 'blchaw1', 'bkcdon',\n",
    "       'blcjay1', 'chfmac1', 'blbwre1', 'banana', 'gretin1', 'yercac1',\n",
    "       'rtlhum', 'crcwoo1', 'blbgra1', 'orcpar', 'solsan', 'paltan1',\n",
    "       'cocwoo1', 'srwswa1', 'trokin', 'rosspo1', 'trsowl']"
   ]
  },
  {
   "cell_type": "code",
   "execution_count": 53,
   "metadata": {},
   "outputs": [
    {
     "data": {
      "text/plain": [
       "['colcha1',\n",
       " 'tbsfin1',\n",
       " 'blhpar1',\n",
       " 'rumfly1',\n",
       " 'palhor2',\n",
       " 'rutjac1',\n",
       " 'yercac1',\n",
       " 'whttro1',\n",
       " 'whbman1',\n",
       " 'gycwor1',\n",
       " 'cinbec1',\n",
       " 'blbwre1',\n",
       " 'yebfly1',\n",
       " 'speowl1',\n",
       " 'bobfly1',\n",
       " 'stbwoo2',\n",
       " 'rutpuf1',\n",
       " 'strcuc1',\n",
       " 'smbani',\n",
       " 'compot1',\n",
       " 'banana',\n",
       " 'wbwwre1',\n",
       " 'cargra1',\n",
       " 'pavpig2',\n",
       " 'rugdov',\n",
       " 'rubsee1',\n",
       " 'trokin',\n",
       " 'yebela1',\n",
       " 'blbgra1',\n",
       " 'blcjay1',\n",
       " 'brtpar1',\n",
       " 'laufal1',\n",
       " 'tropar',\n",
       " 'baymac',\n",
       " 'thbeup1',\n",
       " 'grepot1',\n",
       " 'bicwre1',\n",
       " 'piepuf1',\n",
       " 'strfly1',\n",
       " 'butsal1',\n",
       " 'littin1',\n",
       " 'compau',\n",
       " 'yehcar1',\n",
       " 'yehbla2',\n",
       " 'cocwoo1',\n",
       " 'ruther1',\n",
       " 'eardov1',\n",
       " 'royfly1',\n",
       " 'trsowl',\n",
       " 'socfly1',\n",
       " 'paltan1',\n",
       " 'grekis',\n",
       " 'yelori1',\n",
       " 'yeofly1',\n",
       " 'gybmar',\n",
       " 'spepar1',\n",
       " 'chfmac1',\n",
       " 'soulap1',\n",
       " 'crbtan1',\n",
       " 'plbwoo1',\n",
       " 'amekes',\n",
       " 'bucmot3',\n",
       " 'crebob1',\n",
       " 'saffin',\n",
       " 'roahaw',\n",
       " 'shtfly1',\n",
       " 'watjac1',\n",
       " 'creoro1',\n",
       " 'olipic1',\n",
       " 'ywcpar',\n",
       " 'ragmac1',\n",
       " 'cotfly1',\n",
       " 'gretin1',\n",
       " 'whtdov',\n",
       " 'pirfly1',\n",
       " 'gohman1',\n",
       " 'cregua1',\n",
       " 'yectyr1',\n",
       " 'chbant1',\n",
       " 'rufmot1',\n",
       " 'greibi1',\n",
       " 'thlsch3',\n",
       " 'orcpar',\n",
       " 'linwoo1',\n",
       " 'rtlhum',\n",
       " 'bugtan',\n",
       " 'recwoo1',\n",
       " 'yecspi2',\n",
       " 'colara1',\n",
       " 'sobtyr1',\n",
       " 'cattyr',\n",
       " 'secfly1',\n",
       " 'blcant4',\n",
       " 'bkmtou1']"
      ]
     },
     "execution_count": 53,
     "metadata": {},
     "output_type": "execute_result"
    }
   ],
   "source": [
    "list(set(pesudo_birds) & set(birds_pred))"
   ]
  },
  {
   "cell_type": "code",
   "execution_count": null,
   "metadata": {},
   "outputs": [],
   "source": []
  }
 ],
 "metadata": {
  "kernelspec": {
   "display_name": "cibmtr",
   "language": "python",
   "name": "python3"
  },
  "language_info": {
   "codemirror_mode": {
    "name": "ipython",
    "version": 3
   },
   "file_extension": ".py",
   "mimetype": "text/x-python",
   "name": "python",
   "nbconvert_exporter": "python",
   "pygments_lexer": "ipython3",
   "version": "3.10.15"
  }
 },
 "nbformat": 4,
 "nbformat_minor": 2
}
