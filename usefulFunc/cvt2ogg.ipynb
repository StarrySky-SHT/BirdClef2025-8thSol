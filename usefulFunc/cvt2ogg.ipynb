{
 "cells": [
  {
   "cell_type": "code",
   "execution_count": 1,
   "metadata": {},
   "outputs": [],
   "source": [
    "import numpy as np\n",
    "from glob import glob\n",
    "from pydub import AudioSegment\n",
    "import soundfile as sf\n",
    "import pandas as pd"
   ]
  },
  {
   "cell_type": "code",
   "execution_count": 2,
   "metadata": {},
   "outputs": [],
   "source": [
    "fileslist = glob('/root/projects/BirdClef2025/externaldata/download_data/*/*')\n",
    "train_path = '/root/projects/BirdClef2025/data/train_audio'\n",
    "filtered_filelist = []\n",
    "for file in fileslist:\n",
    "    ebird = file.split('/')[-2]\n",
    "    existed_filenames = glob(train_path+f'/{ebird}/*')\n",
    "    existed_filenames = [i.split('/')[-1].replace('iNat','').replace('.ogg','') for i in existed_filenames]\n",
    "    download_filename = file.split('_')[-1].split('.')[0]\n",
    "    if download_filename not in existed_filenames:\n",
    "        filtered_filelist.append(file)\n"
   ]
  },
  {
   "cell_type": "code",
   "execution_count": 3,
   "metadata": {},
   "outputs": [
    {
     "name": "stderr",
     "output_type": "stream",
     "text": [
      "  9%|▊         | 55/635 [00:40<06:01,  1.60it/s]"
     ]
    },
    {
     "name": "stdout",
     "output_type": "stream",
     "text": [
      "error file:/root/projects/BirdClef2025/externaldata/download_data/24272/249841877_1241495.mpga\n"
     ]
    },
    {
     "name": "stderr",
     "output_type": "stream",
     "text": [
      " 13%|█▎        | 82/635 [00:55<04:44,  1.94it/s]"
     ]
    },
    {
     "name": "stdout",
     "output_type": "stream",
     "text": [
      "error file:/root/projects/BirdClef2025/externaldata/download_data/65962/44043673_78382.mpga\n"
     ]
    },
    {
     "name": "stderr",
     "output_type": "stream",
     "text": [
      " 23%|██▎       | 144/635 [01:31<03:58,  2.06it/s]"
     ]
    },
    {
     "name": "stdout",
     "output_type": "stream",
     "text": [
      "error file:/root/projects/BirdClef2025/externaldata/download_data/65344/209579021_985092.mp3\n"
     ]
    },
    {
     "name": "stderr",
     "output_type": "stream",
     "text": [
      " 24%|██▍       | 152/635 [01:35<03:39,  2.20it/s]"
     ]
    },
    {
     "name": "stdout",
     "output_type": "stream",
     "text": [
      "error file:/root/projects/BirdClef2025/externaldata/download_data/566513/197153070_880047.mp3\n"
     ]
    },
    {
     "name": "stderr",
     "output_type": "stream",
     "text": [
      " 24%|██▍       | 153/635 [01:36<03:17,  2.44it/s]"
     ]
    },
    {
     "name": "stdout",
     "output_type": "stream",
     "text": [
      "error file:/root/projects/BirdClef2025/externaldata/download_data/566513/68018253_158485.wav\n"
     ]
    },
    {
     "name": "stderr",
     "output_type": "stream",
     "text": [
      " 33%|███▎      | 211/635 [02:10<03:37,  1.95it/s]"
     ]
    },
    {
     "name": "stdout",
     "output_type": "stream",
     "text": [
      "error file:/root/projects/BirdClef2025/externaldata/download_data/66893/224781016_1106760.mp3\n"
     ]
    },
    {
     "name": "stderr",
     "output_type": "stream",
     "text": [
      " 34%|███▍      | 215/635 [02:12<03:30,  1.99it/s]"
     ]
    },
    {
     "name": "stdout",
     "output_type": "stream",
     "text": [
      "error file:/root/projects/BirdClef2025/externaldata/download_data/66893/44371081_80185.mpga\n"
     ]
    },
    {
     "name": "stderr",
     "output_type": "stream",
     "text": [
      " 34%|███▍      | 217/635 [02:13<02:33,  2.72it/s]"
     ]
    },
    {
     "name": "stdout",
     "output_type": "stream",
     "text": [
      "error file:/root/projects/BirdClef2025/externaldata/download_data/66893/72581809_180121.mpga\n"
     ]
    },
    {
     "name": "stderr",
     "output_type": "stream",
     "text": [
      " 40%|████      | 256/635 [02:39<03:06,  2.04it/s]"
     ]
    },
    {
     "name": "stdout",
     "output_type": "stream",
     "text": [
      "error file:/root/projects/BirdClef2025/externaldata/download_data/66531/38199998_56388.mpga\n"
     ]
    },
    {
     "name": "stderr",
     "output_type": "stream",
     "text": [
      " 50%|█████     | 320/635 [03:13<03:08,  1.67it/s]"
     ]
    },
    {
     "name": "stdout",
     "output_type": "stream",
     "text": [
      "error file:/root/projects/BirdClef2025/externaldata/download_data/22333/247417847_1229868.mpga\n"
     ]
    },
    {
     "name": "stderr",
     "output_type": "stream",
     "text": [
      " 57%|█████▋    | 361/635 [03:34<02:11,  2.08it/s]"
     ]
    },
    {
     "name": "stdout",
     "output_type": "stream",
     "text": [
      "error file:/root/projects/BirdClef2025/externaldata/download_data/22333/256945211_1277092.mp3\n"
     ]
    },
    {
     "name": "stderr",
     "output_type": "stream",
     "text": [
      " 80%|███████▉  | 505/635 [05:26<03:18,  1.53s/it]"
     ]
    },
    {
     "name": "stdout",
     "output_type": "stream",
     "text": [
      "error file:/root/projects/BirdClef2025/externaldata/download_data/555086/243000931_1206712.mpga\n"
     ]
    },
    {
     "name": "stderr",
     "output_type": "stream",
     "text": [
      " 84%|████████▍ | 534/635 [06:26<02:17,  1.36s/it]"
     ]
    },
    {
     "name": "stdout",
     "output_type": "stream",
     "text": [
      "error file:/root/projects/BirdClef2025/externaldata/download_data/555086/243258054_1207844.mpga\n"
     ]
    },
    {
     "name": "stderr",
     "output_type": "stream",
     "text": [
      " 99%|█████████▊| 626/635 [07:24<00:03,  2.34it/s]"
     ]
    },
    {
     "name": "stdout",
     "output_type": "stream",
     "text": [
      "error file:/root/projects/BirdClef2025/externaldata/download_data/65373/251952805_1252221.mpga\n"
     ]
    },
    {
     "name": "stderr",
     "output_type": "stream",
     "text": [
      "100%|██████████| 635/635 [07:29<00:00,  1.41it/s]\n"
     ]
    }
   ],
   "source": [
    "from tqdm import tqdm\n",
    "import os\n",
    "\n",
    "for file in tqdm(filtered_filelist,total=len(filtered_filelist)):\n",
    "    try:\n",
    "        if '.wav' in file:\n",
    "            mode = 'wav'\n",
    "        elif '.mp3' in file:\n",
    "            mode = 'mp3'\n",
    "        elif '.m4a' in file:\n",
    "            mode = 'm4a'\n",
    "        elif '.mpga' in file:\n",
    "            mode = 'mp3'\n",
    "        else:\n",
    "            raise TypeError\n",
    "        audio = AudioSegment.from_file(file,format=mode)\n",
    "        audio = audio.set_frame_rate(32000)  # 修改采样率为32kHz\n",
    "        if not os.path.exists('/'.join(file.replace('download_data','download_data_ogg').split('/')[:-1])):\n",
    "            os.mkdir('/'.join(file.replace('download_data','download_data_ogg').split('/')[:-1]))\n",
    "        audio.export(file.replace('download_data','download_data_ogg').replace('.wav','.ogg').replace('.mp3','.ogg').replace('.mpga','.ogg').replace('.m4a','.ogg'),\n",
    "                    format='ogg')\n",
    "    except:\n",
    "        print(f'error file:{file}')"
   ]
  },
  {
   "cell_type": "code",
   "execution_count": null,
   "metadata": {},
   "outputs": [],
   "source": [
    "fileslist = glob('/root/projects/BirdClef2025/externaldata/download_xc_data/*/*')\n",
    "train_path = '/root/projects/BirdClef2025/data/train_audio'\n",
    "filtered_filelist = []\n",
    "for file in fileslist:\n",
    "    ebird = file.split('/')[-2]\n",
    "    existed_filenames = glob(train_path+f'/{ebird}/*')\n",
    "    existed_filenames = [i.split('/')[-1].replace('XC','').replace('.ogg','') for i in existed_filenames]\n",
    "    download_filename = file.split('XC')[-1].split('.')[0]\n",
    "    if download_filename not in existed_filenames:\n",
    "        filtered_filelist.append(file)"
   ]
  },
  {
   "cell_type": "code",
   "execution_count": null,
   "metadata": {},
   "outputs": [],
   "source": [
    "from tqdm import tqdm\n",
    "import librosa as lb\n",
    "error_list = []\n",
    "for file in tqdm(filtered_filelist,total=len(filtered_filelist)):\n",
    "    try:\n",
    "        audio = lb.load(file,sr=32000)\n",
    "        sf.write(file.replace('download_xc_data','download_xc_data_resample'),audio[0],samplerate=audio[1])\n",
    "    except:\n",
    "        print(f'error file:{file}')\n",
    "        error_list.append(file)"
   ]
  },
  {
   "cell_type": "code",
   "execution_count": 15,
   "metadata": {},
   "outputs": [],
   "source": [
    "external_data = glob('/root/projects/BirdClef2025/externaldata/download_xc_data_resample/*/*.ogg')\n",
    "external_data += glob('/root/projects/BirdClef2025/externaldata/download_data_ogg/*/*.ogg')\n",
    "external_df = pd.DataFrame({'path':external_data})\n",
    "external_df['primary_label'] = external_df.map(lambda x:x.split('/')[-2])\n",
    "external_df['secondary_labels'] = ['[\\'\\']' for _ in range(len(external_df))]\n",
    "external_df['rating'] = [0 for _ in range(len(external_df))]\n",
    "external_df.to_csv('/root/projects/BirdClef2025/data/external_trainv2.csv',index=False)"
   ]
  },
  {
   "cell_type": "code",
   "execution_count": 7,
   "metadata": {},
   "outputs": [],
   "source": [
    "train_df = pd.read_csv('/root/projects/BirdClef2025/BirdCLEF2023-30th-place-solution-master/usefulFunc/train.csv')\n",
    "all_data = pd.concat((train_df,external_df))"
   ]
  },
  {
   "cell_type": "code",
   "execution_count": 12,
   "metadata": {},
   "outputs": [
    {
     "data": {
      "text/plain": [
       "primary_label\n",
       "plctan1    7\n",
       "1462737    7\n",
       "41778      6\n",
       "42113      6\n",
       "47067      6\n",
       "65419      6\n",
       "1564122    6\n",
       "42087      6\n",
       "476538     6\n",
       "1346504    5\n",
       "24292      5\n",
       "548639     5\n",
       "714022     5\n",
       "963335     5\n",
       "1192948    4\n",
       "523060     4\n",
       "868458     4\n",
       "66016      4\n",
       "67082      4\n",
       "1462711    3\n",
       "1139490    3\n",
       "1194042    3\n",
       "476537     3\n",
       "21038      2\n",
       "64862      2\n",
       "81930      2\n",
       "528041     2\n",
       "21116      2\n",
       "Name: count, dtype: int64"
      ]
     },
     "execution_count": 12,
     "metadata": {},
     "output_type": "execute_result"
    }
   ],
   "source": [
    "all_data['primary_label'].value_counts()[all_data['primary_label'].value_counts()<10]"
   ]
  },
  {
   "cell_type": "code",
   "execution_count": 24,
   "metadata": {},
   "outputs": [],
   "source": [
    "df = pd.read_csv('/root/projects/BirdClef2025/BirdCLEF2023-30th-place-solution-master/usefulFunc/train.csv')"
   ]
  },
  {
   "cell_type": "code",
   "execution_count": 26,
   "metadata": {},
   "outputs": [
    {
     "data": {
      "text/html": [
       "<div>\n",
       "<style scoped>\n",
       "    .dataframe tbody tr th:only-of-type {\n",
       "        vertical-align: middle;\n",
       "    }\n",
       "\n",
       "    .dataframe tbody tr th {\n",
       "        vertical-align: top;\n",
       "    }\n",
       "\n",
       "    .dataframe thead th {\n",
       "        text-align: right;\n",
       "    }\n",
       "</style>\n",
       "<table border=\"1\" class=\"dataframe\">\n",
       "  <thead>\n",
       "    <tr style=\"text-align: right;\">\n",
       "      <th></th>\n",
       "      <th>primary_label</th>\n",
       "      <th>secondary_labels</th>\n",
       "      <th>type</th>\n",
       "      <th>filename</th>\n",
       "      <th>collection</th>\n",
       "      <th>rating</th>\n",
       "      <th>url</th>\n",
       "      <th>latitude</th>\n",
       "      <th>longitude</th>\n",
       "      <th>scientific_name</th>\n",
       "      <th>common_name</th>\n",
       "      <th>author</th>\n",
       "      <th>license</th>\n",
       "      <th>path</th>\n",
       "    </tr>\n",
       "  </thead>\n",
       "  <tbody>\n",
       "    <tr>\n",
       "      <th>0</th>\n",
       "      <td>1139490</td>\n",
       "      <td>['']</td>\n",
       "      <td>['']</td>\n",
       "      <td>1139490/CSA36385.ogg</td>\n",
       "      <td>CSA</td>\n",
       "      <td>0.0</td>\n",
       "      <td>http://colecciones.humboldt.org.co/rec/sonidos...</td>\n",
       "      <td>7.3206</td>\n",
       "      <td>-73.7128</td>\n",
       "      <td>Ragoniella pulchella</td>\n",
       "      <td>Ragoniella pulchella</td>\n",
       "      <td>Fabio A. Sarria-S</td>\n",
       "      <td>cc-by-nc-sa 4.0</td>\n",
       "      <td>NaN</td>\n",
       "    </tr>\n",
       "    <tr>\n",
       "      <th>1</th>\n",
       "      <td>1139490</td>\n",
       "      <td>['']</td>\n",
       "      <td>['']</td>\n",
       "      <td>1139490/CSA36389.ogg</td>\n",
       "      <td>CSA</td>\n",
       "      <td>0.0</td>\n",
       "      <td>http://colecciones.humboldt.org.co/rec/sonidos...</td>\n",
       "      <td>7.3206</td>\n",
       "      <td>-73.7128</td>\n",
       "      <td>Ragoniella pulchella</td>\n",
       "      <td>Ragoniella pulchella</td>\n",
       "      <td>Fabio A. Sarria-S</td>\n",
       "      <td>cc-by-nc-sa 4.0</td>\n",
       "      <td>NaN</td>\n",
       "    </tr>\n",
       "    <tr>\n",
       "      <th>2</th>\n",
       "      <td>1192948</td>\n",
       "      <td>['']</td>\n",
       "      <td>['']</td>\n",
       "      <td>1192948/CSA36358.ogg</td>\n",
       "      <td>CSA</td>\n",
       "      <td>0.0</td>\n",
       "      <td>http://colecciones.humboldt.org.co/rec/sonidos...</td>\n",
       "      <td>7.3791</td>\n",
       "      <td>-73.7313</td>\n",
       "      <td>Oxyprora surinamensis</td>\n",
       "      <td>Oxyprora surinamensis</td>\n",
       "      <td>Fabio A. Sarria-S</td>\n",
       "      <td>cc-by-nc-sa 4.0</td>\n",
       "      <td>NaN</td>\n",
       "    </tr>\n",
       "    <tr>\n",
       "      <th>3</th>\n",
       "      <td>1192948</td>\n",
       "      <td>['']</td>\n",
       "      <td>['']</td>\n",
       "      <td>1192948/CSA36366.ogg</td>\n",
       "      <td>CSA</td>\n",
       "      <td>0.0</td>\n",
       "      <td>http://colecciones.humboldt.org.co/rec/sonidos...</td>\n",
       "      <td>7.2800</td>\n",
       "      <td>-73.8582</td>\n",
       "      <td>Oxyprora surinamensis</td>\n",
       "      <td>Oxyprora surinamensis</td>\n",
       "      <td>Fabio A. Sarria-S</td>\n",
       "      <td>cc-by-nc-sa 4.0</td>\n",
       "      <td>NaN</td>\n",
       "    </tr>\n",
       "    <tr>\n",
       "      <th>4</th>\n",
       "      <td>1192948</td>\n",
       "      <td>['']</td>\n",
       "      <td>['']</td>\n",
       "      <td>1192948/CSA36373.ogg</td>\n",
       "      <td>CSA</td>\n",
       "      <td>0.0</td>\n",
       "      <td>http://colecciones.humboldt.org.co/rec/sonidos...</td>\n",
       "      <td>7.3791</td>\n",
       "      <td>-73.7313</td>\n",
       "      <td>Oxyprora surinamensis</td>\n",
       "      <td>Oxyprora surinamensis</td>\n",
       "      <td>Fabio A. Sarria-S</td>\n",
       "      <td>cc-by-nc-sa 4.0</td>\n",
       "      <td>NaN</td>\n",
       "    </tr>\n",
       "    <tr>\n",
       "      <th>...</th>\n",
       "      <td>...</td>\n",
       "      <td>...</td>\n",
       "      <td>...</td>\n",
       "      <td>...</td>\n",
       "      <td>...</td>\n",
       "      <td>...</td>\n",
       "      <td>...</td>\n",
       "      <td>...</td>\n",
       "      <td>...</td>\n",
       "      <td>...</td>\n",
       "      <td>...</td>\n",
       "      <td>...</td>\n",
       "      <td>...</td>\n",
       "      <td>...</td>\n",
       "    </tr>\n",
       "    <tr>\n",
       "      <th>396</th>\n",
       "      <td>787625</td>\n",
       "      <td>['']</td>\n",
       "      <td>NaN</td>\n",
       "      <td>NaN</td>\n",
       "      <td>NaN</td>\n",
       "      <td>0.0</td>\n",
       "      <td>NaN</td>\n",
       "      <td>NaN</td>\n",
       "      <td>NaN</td>\n",
       "      <td>NaN</td>\n",
       "      <td>NaN</td>\n",
       "      <td>NaN</td>\n",
       "      <td>NaN</td>\n",
       "      <td>/root/projects/BirdClef2025/externaldata/downl...</td>\n",
       "    </tr>\n",
       "    <tr>\n",
       "      <th>397</th>\n",
       "      <td>787625</td>\n",
       "      <td>['']</td>\n",
       "      <td>NaN</td>\n",
       "      <td>NaN</td>\n",
       "      <td>NaN</td>\n",
       "      <td>0.0</td>\n",
       "      <td>NaN</td>\n",
       "      <td>NaN</td>\n",
       "      <td>NaN</td>\n",
       "      <td>NaN</td>\n",
       "      <td>NaN</td>\n",
       "      <td>NaN</td>\n",
       "      <td>NaN</td>\n",
       "      <td>/root/projects/BirdClef2025/externaldata/downl...</td>\n",
       "    </tr>\n",
       "    <tr>\n",
       "      <th>398</th>\n",
       "      <td>787625</td>\n",
       "      <td>['']</td>\n",
       "      <td>NaN</td>\n",
       "      <td>NaN</td>\n",
       "      <td>NaN</td>\n",
       "      <td>0.0</td>\n",
       "      <td>NaN</td>\n",
       "      <td>NaN</td>\n",
       "      <td>NaN</td>\n",
       "      <td>NaN</td>\n",
       "      <td>NaN</td>\n",
       "      <td>NaN</td>\n",
       "      <td>NaN</td>\n",
       "      <td>/root/projects/BirdClef2025/externaldata/downl...</td>\n",
       "    </tr>\n",
       "    <tr>\n",
       "      <th>399</th>\n",
       "      <td>bubcur1</td>\n",
       "      <td>['']</td>\n",
       "      <td>NaN</td>\n",
       "      <td>NaN</td>\n",
       "      <td>NaN</td>\n",
       "      <td>0.0</td>\n",
       "      <td>NaN</td>\n",
       "      <td>NaN</td>\n",
       "      <td>NaN</td>\n",
       "      <td>NaN</td>\n",
       "      <td>NaN</td>\n",
       "      <td>NaN</td>\n",
       "      <td>NaN</td>\n",
       "      <td>/root/projects/BirdClef2025/externaldata/downl...</td>\n",
       "    </tr>\n",
       "    <tr>\n",
       "      <th>400</th>\n",
       "      <td>bubcur1</td>\n",
       "      <td>['']</td>\n",
       "      <td>NaN</td>\n",
       "      <td>NaN</td>\n",
       "      <td>NaN</td>\n",
       "      <td>0.0</td>\n",
       "      <td>NaN</td>\n",
       "      <td>NaN</td>\n",
       "      <td>NaN</td>\n",
       "      <td>NaN</td>\n",
       "      <td>NaN</td>\n",
       "      <td>NaN</td>\n",
       "      <td>NaN</td>\n",
       "      <td>/root/projects/BirdClef2025/externaldata/downl...</td>\n",
       "    </tr>\n",
       "  </tbody>\n",
       "</table>\n",
       "<p>28965 rows × 14 columns</p>\n",
       "</div>"
      ],
      "text/plain": [
       "    primary_label secondary_labels  type              filename collection  \\\n",
       "0         1139490             ['']  ['']  1139490/CSA36385.ogg        CSA   \n",
       "1         1139490             ['']  ['']  1139490/CSA36389.ogg        CSA   \n",
       "2         1192948             ['']  ['']  1192948/CSA36358.ogg        CSA   \n",
       "3         1192948             ['']  ['']  1192948/CSA36366.ogg        CSA   \n",
       "4         1192948             ['']  ['']  1192948/CSA36373.ogg        CSA   \n",
       "..            ...              ...   ...                   ...        ...   \n",
       "396        787625             ['']   NaN                   NaN        NaN   \n",
       "397        787625             ['']   NaN                   NaN        NaN   \n",
       "398        787625             ['']   NaN                   NaN        NaN   \n",
       "399       bubcur1             ['']   NaN                   NaN        NaN   \n",
       "400       bubcur1             ['']   NaN                   NaN        NaN   \n",
       "\n",
       "     rating                                                url  latitude  \\\n",
       "0       0.0  http://colecciones.humboldt.org.co/rec/sonidos...    7.3206   \n",
       "1       0.0  http://colecciones.humboldt.org.co/rec/sonidos...    7.3206   \n",
       "2       0.0  http://colecciones.humboldt.org.co/rec/sonidos...    7.3791   \n",
       "3       0.0  http://colecciones.humboldt.org.co/rec/sonidos...    7.2800   \n",
       "4       0.0  http://colecciones.humboldt.org.co/rec/sonidos...    7.3791   \n",
       "..      ...                                                ...       ...   \n",
       "396     0.0                                                NaN       NaN   \n",
       "397     0.0                                                NaN       NaN   \n",
       "398     0.0                                                NaN       NaN   \n",
       "399     0.0                                                NaN       NaN   \n",
       "400     0.0                                                NaN       NaN   \n",
       "\n",
       "     longitude        scientific_name            common_name  \\\n",
       "0     -73.7128   Ragoniella pulchella   Ragoniella pulchella   \n",
       "1     -73.7128   Ragoniella pulchella   Ragoniella pulchella   \n",
       "2     -73.7313  Oxyprora surinamensis  Oxyprora surinamensis   \n",
       "3     -73.8582  Oxyprora surinamensis  Oxyprora surinamensis   \n",
       "4     -73.7313  Oxyprora surinamensis  Oxyprora surinamensis   \n",
       "..         ...                    ...                    ...   \n",
       "396        NaN                    NaN                    NaN   \n",
       "397        NaN                    NaN                    NaN   \n",
       "398        NaN                    NaN                    NaN   \n",
       "399        NaN                    NaN                    NaN   \n",
       "400        NaN                    NaN                    NaN   \n",
       "\n",
       "                author          license  \\\n",
       "0    Fabio A. Sarria-S  cc-by-nc-sa 4.0   \n",
       "1    Fabio A. Sarria-S  cc-by-nc-sa 4.0   \n",
       "2    Fabio A. Sarria-S  cc-by-nc-sa 4.0   \n",
       "3    Fabio A. Sarria-S  cc-by-nc-sa 4.0   \n",
       "4    Fabio A. Sarria-S  cc-by-nc-sa 4.0   \n",
       "..                 ...              ...   \n",
       "396                NaN              NaN   \n",
       "397                NaN              NaN   \n",
       "398                NaN              NaN   \n",
       "399                NaN              NaN   \n",
       "400                NaN              NaN   \n",
       "\n",
       "                                                  path  \n",
       "0                                                  NaN  \n",
       "1                                                  NaN  \n",
       "2                                                  NaN  \n",
       "3                                                  NaN  \n",
       "4                                                  NaN  \n",
       "..                                                 ...  \n",
       "396  /root/projects/BirdClef2025/externaldata/downl...  \n",
       "397  /root/projects/BirdClef2025/externaldata/downl...  \n",
       "398  /root/projects/BirdClef2025/externaldata/downl...  \n",
       "399  /root/projects/BirdClef2025/externaldata/downl...  \n",
       "400  /root/projects/BirdClef2025/externaldata/downl...  \n",
       "\n",
       "[28965 rows x 14 columns]"
      ]
     },
     "execution_count": 26,
     "metadata": {},
     "output_type": "execute_result"
    }
   ],
   "source": [
    "pd.concat((df,external_df))"
   ]
  }
 ],
 "metadata": {
  "kernelspec": {
   "display_name": "cibmtr",
   "language": "python",
   "name": "python3"
  },
  "language_info": {
   "codemirror_mode": {
    "name": "ipython",
    "version": 3
   },
   "file_extension": ".py",
   "mimetype": "text/x-python",
   "name": "python",
   "nbconvert_exporter": "python",
   "pygments_lexer": "ipython3",
   "version": "3.10.15"
  }
 },
 "nbformat": 4,
 "nbformat_minor": 2
}
